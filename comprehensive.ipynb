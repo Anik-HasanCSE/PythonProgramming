{
  "nbformat": 4,
  "nbformat_minor": 0,
  "metadata": {
    "colab": {
      "provenance": [],
      "include_colab_link": true
    },
    "kernelspec": {
      "name": "python3",
      "display_name": "Python 3"
    },
    "language_info": {
      "name": "python"
    }
  },
  "cells": [
    {
      "cell_type": "markdown",
      "metadata": {
        "id": "view-in-github",
        "colab_type": "text"
      },
      "source": [
        "<a href=\"https://colab.research.google.com/github/Anik-HasanCSE/PythonProgramming/blob/main/comprehensive.ipynb\" target=\"_parent\"><img src=\"https://colab.research.google.com/assets/colab-badge.svg\" alt=\"Open In Colab\"/></a>"
      ]
    },
    {
      "cell_type": "code",
      "execution_count": null,
      "metadata": {
        "id": "HzoZcHMXT3yg"
      },
      "outputs": [],
      "source": [
        "# Create a new list with squares of numbers\n",
        "squares = [x**2 for x in range(1, 6)]\n",
        "print(squares)  # Output: [1, 4, 9, 16, 25]\n"
      ]
    },
    {
      "cell_type": "code",
      "source": [
        "# Create a generator for squares of numbers\n",
        "squares_gen = (x**2 for x in range(1, 6))\n",
        "print(list(squares_gen))  # Output: [1, 4, 9, 16, 25]\n"
      ],
      "metadata": {
        "id": "0AuSWkgifnO9"
      },
      "execution_count": null,
      "outputs": []
    },
    {
      "cell_type": "code",
      "source": [
        "# Create a dictionary with number and their square\n",
        "squares_dict = {x: x**2 for x in range(1, 6)}\n",
        "print(squares_dict)  # Output: {1: 1, 2: 4, 3: 9, 4: 16, 5: 25}\n"
      ],
      "metadata": {
        "id": "QzM5KA-lfrrF"
      },
      "execution_count": null,
      "outputs": []
    },
    {
      "cell_type": "code",
      "source": [
        "# Create a list of characters from a string\n",
        "chars = [char for char in \"Hello\"]\n",
        "print(chars)  # Output: ['H', 'e', 'l', 'l', 'o']\n"
      ],
      "metadata": {
        "id": "0Km1tYUGfxBa"
      },
      "execution_count": null,
      "outputs": []
    },
    {
      "cell_type": "code",
      "source": [],
      "metadata": {
        "id": "6CbXhMBLfyyW"
      },
      "execution_count": null,
      "outputs": []
    }
  ]
}