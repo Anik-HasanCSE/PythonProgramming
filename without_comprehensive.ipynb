{
  "nbformat": 4,
  "nbformat_minor": 0,
  "metadata": {
    "colab": {
      "provenance": [],
      "include_colab_link": true
    },
    "kernelspec": {
      "name": "python3",
      "display_name": "Python 3"
    },
    "language_info": {
      "name": "python"
    }
  },
  "cells": [
    {
      "cell_type": "markdown",
      "metadata": {
        "id": "view-in-github",
        "colab_type": "text"
      },
      "source": [
        "<a href=\"https://colab.research.google.com/github/Anik-HasanCSE/PythonProgramming/blob/main/without_comprehensive.ipynb\" target=\"_parent\"><img src=\"https://colab.research.google.com/assets/colab-badge.svg\" alt=\"Open In Colab\"/></a>"
      ]
    },
    {
      "cell_type": "code",
      "source": [
        "from IPython import get_ipython\n",
        "from IPython.display import display\n",
        "# %%\n",
        "lst = ['Python', 'C++', 'JavaScript', 'C', 'Java', 'HTML']\n",
        "\n",
        "lst.append(\"CSS\")\n",
        "\n",
        "print(lst)\n",
        "# %%\n",
        "lst = ['Python', 'C++', 'JavaScript', 'C', 'Java', 'HTML']\n",
        "\n",
        "lst.remove(\"HTML\")\n",
        "\n",
        "print(lst)"
      ],
      "metadata": {
        "colab": {
          "base_uri": "https://localhost:8080/"
        },
        "id": "ZORmyB_OjLwy",
        "outputId": "71b81419-49d8-496d-cb77-fbee2d280faf"
      },
      "execution_count": null,
      "outputs": [
        {
          "output_type": "stream",
          "name": "stdout",
          "text": [
            "['Python', 'C++', 'JavaScript', 'C', 'Java', 'HTML', 'CSS']\n",
            "['Python', 'C++', 'JavaScript', 'C', 'Java']\n"
          ]
        }
      ]
    },
    {
      "cell_type": "code",
      "source": [
        "languages = ['Python', 'Java']\n",
        "\n",
        "# Add 'C++' to the list\n",
        "languages.append('C++')\n",
        "\n",
        "# Remove 'Java' from the list\n",
        "languages.remove('Java')\n",
        "\n",
        "# Print the updated list\n",
        "print(languages)  # Output: ['Python', 'C++']"
      ],
      "metadata": {
        "colab": {
          "base_uri": "https://localhost:8080/"
        },
        "id": "Ze5o6KvBkMTe",
        "outputId": "d8719d61-8083-4234-b5e4-7e0e868a6e08"
      },
      "execution_count": null,
      "outputs": [
        {
          "output_type": "stream",
          "name": "stdout",
          "text": [
            "['Python', 'C++']\n"
          ]
        }
      ]
    },
    {
      "cell_type": "code",
      "source": [
        "# This code is in a cell\n",
        "from IPython import get_ipython\n",
        "from IPython.display import display\n",
        "\n",
        "# This is the start of a new cell\n",
        "from IPython import get_ipython\n",
        "from IPython.display import display\n",
        "\n",
        "# This is the start of a new cell\n",
        "lst = ['Python', 'C++', 'JavaScript', 'C', 'Java', 'HTML']\n",
        "\n",
        "lst.append(\"CSS\")\n",
        "\n",
        "print(lst)\n",
        "\n",
        "# This is the start of a new cell\n",
        "lst = ['Python', 'C++', 'JavaScript', 'C', 'Java', 'HTML']\n",
        "\n",
        "lst.remove(\"HTML\")\n",
        "\n",
        "print(lst)\n",
        "\n",
        "# This is the start of a new cell\n",
        "languages = ['Python', 'Java']\n",
        "\n",
        "# Add 'C++' to the list\n",
        "languages.append('C++')\n",
        "\n",
        "# Remove 'Java' from the list\n",
        "languages.remove('Java')\n",
        "\n",
        "# Print the updated list\n",
        "print(languages)  # Output: ['Python', 'C++']"
      ],
      "metadata": {
        "colab": {
          "base_uri": "https://localhost:8080/"
        },
        "id": "IUDhnFwjkm4_",
        "outputId": "abba2a56-ed1d-45f5-8fa5-b3f1495cc4aa"
      },
      "execution_count": null,
      "outputs": [
        {
          "output_type": "stream",
          "name": "stdout",
          "text": [
            "['Python', 'C++', 'JavaScript', 'C', 'Java', 'HTML', 'CSS']\n",
            "['Python', 'C++', 'JavaScript', 'C', 'Java']\n",
            "['Python', 'C++']\n"
          ]
        }
      ]
    },
    {
      "cell_type": "code",
      "source": [
        "lst = ['Python', 'C++', 'JavaScript', 'C', 'Java', 'HTML']\n",
        "\n",
        "lst.append(\"CSS\")\n",
        "\n",
        "print(lst)\n",
        "\n",
        "\n",
        "lst = ['Python', 'C++', 'JavaScript', 'C', 'Java', 'HTML']\n",
        "\n",
        "lst.remove(\"HTML\")\n",
        "\n",
        "print(lst)\n",
        "\n",
        "\n",
        "languages = ['Python', 'Java']\n",
        "\n",
        "# Add 'C++' to the list\n",
        "languages.append('C++')\n",
        "\n",
        "# Remove 'Java' from the list\n",
        "languages.remove('Java')\n",
        "\n",
        "# Print the updated list\n",
        "print(languages)  # Output: ['Python', 'C++']"
      ],
      "metadata": {
        "colab": {
          "base_uri": "https://localhost:8080/"
        },
        "id": "TS9J_L8YkwiM",
        "outputId": "d37b4c6a-0c9e-4d29-fa24-615bdee77bcf"
      },
      "execution_count": null,
      "outputs": [
        {
          "output_type": "stream",
          "name": "stdout",
          "text": [
            "['Python', 'C++', 'JavaScript', 'C', 'Java', 'HTML', 'CSS']\n",
            "['Python', 'C++', 'JavaScript', 'C', 'Java']\n",
            "['Python', 'C++']\n"
          ]
        }
      ]
    },
    {
      "cell_type": "code",
      "source": [
        "lst = ['Python', 'C++', 'JavaScript', 'C', 'Java', 'HTML']\n",
        "\n",
        "# Join the elements of the list with a comma and a space\n",
        "joined_string = ', '.join(lst)\n",
        "\n",
        "# Print the joined string\n",
        "print(joined_string)"
      ],
      "metadata": {
        "colab": {
          "base_uri": "https://localhost:8080/"
        },
        "id": "IpiQHhvvlriI",
        "outputId": "8c13a9f8-13ca-44ca-81f7-b3d695123f90"
      },
      "execution_count": null,
      "outputs": [
        {
          "output_type": "stream",
          "name": "stdout",
          "text": [
            "Python, C++, JavaScript, C, Java, HTML\n"
          ]
        }
      ]
    },
    {
      "cell_type": "code",
      "source": [
        "# Initial list\n",
        "languages = ['Python', 'C++', 'Java']\n",
        "\n",
        "# List to extend with\n",
        "more_languages = ['HTML', 'CSS']\n",
        "\n",
        "# Extending the list\n",
        "languages.extend(more_languages)\n",
        "\n",
        "print(languages)  # Output: ['Python', 'C++', 'Java', 'HTML', 'CSS']\n"
      ],
      "metadata": {
        "colab": {
          "base_uri": "https://localhost:8080/"
        },
        "id": "_iRFQ6PfnLe1",
        "outputId": "8b22c7e3-934e-4cb8-9a1d-a64d46f6a443"
      },
      "execution_count": null,
      "outputs": [
        {
          "output_type": "stream",
          "name": "stdout",
          "text": [
            "['Python', 'C++', 'Java', 'HTML', 'CSS']\n"
          ]
        }
      ]
    },
    {
      "cell_type": "code",
      "source": [
        "# Initial list\n",
        "languages = ['Python', 'C++', 'JavaScript']\n",
        "\n",
        "# Insert 'Java' at index 1\n",
        "languages.insert(1, 'Java')\n",
        "\n",
        "print(languages)  # Output: ['Python', 'Java', 'C++', 'JavaScript']\n"
      ],
      "metadata": {
        "id": "2AASI5H8nSpE",
        "outputId": "9d769444-1434-467f-ef39-e2d65ab6ac6b",
        "colab": {
          "base_uri": "https://localhost:8080/"
        }
      },
      "execution_count": null,
      "outputs": [
        {
          "output_type": "stream",
          "name": "stdout",
          "text": [
            "['Python', 'Java', 'C++', 'JavaScript']\n"
          ]
        }
      ]
    }
  ]
}