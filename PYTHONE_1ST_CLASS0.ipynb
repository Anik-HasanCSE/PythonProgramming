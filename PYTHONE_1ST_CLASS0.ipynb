{
  "cells": [
    {
      "cell_type": "markdown",
      "metadata": {
        "id": "view-in-github",
        "colab_type": "text"
      },
      "source": [
        "<a href=\"https://colab.research.google.com/github/Anik-HasanCSE/PythonProgramming/blob/main/PYTHONE_1ST_CLASS0.ipynb\" target=\"_parent\"><img src=\"https://colab.research.google.com/assets/colab-badge.svg\" alt=\"Open In Colab\"/></a>"
      ]
    },
    {
      "cell_type": "code",
      "execution_count": null,
      "metadata": {
        "id": "ECP8Gssj_zdi"
      },
      "outputs": [],
      "source": [
        "name = \"Alice\"\n",
        "sentence = \"Hello, world!\"\n",
        "multi_line_text = '''This is a\n",
        "multi-line string.'''\n"
      ]
    },
    {
      "cell_type": "code",
      "execution_count": null,
      "metadata": {
        "colab": {
          "base_uri": "https://localhost:8080/"
        },
        "id": "JcRFK7VMDKzA",
        "outputId": "e2a0023b-62fa-45bc-a67d-eb7eece771c3"
      },
      "outputs": [
        {
          "name": "stdout",
          "output_type": "stream",
          "text": [
            "Name: Alice\n",
            "Sentence: Hello, world!\n",
            "Multi-line Text: This is a \n",
            "multi-line string.\n",
            "\n",
            "Greeting: Hello, Alice!\n",
            "Repeated: hahaha\n",
            "First Letter: A\n",
            "Sliced Name: lic\n",
            "Uppercase Sentence: HELLO, WORLD!\n",
            "Modified Sentence: Hello, Alice!\n"
          ]
        }
      ],
      "source": [
        "\n",
        "name = \"Alice\"\n",
        "sentence = \"Hello, world!\"\n",
        "multi_line_text = '''This is a\n",
        "multi-line string.'''\n",
        "\n",
        "\n",
        "print(\"Name:\", name)\n",
        "print(\"Sentence:\", sentence)\n",
        "print(\"Multi-line Text:\", multi_line_text)\n",
        "\n",
        "\n",
        "greeting = \"Hello, \" + name + \"!\"\n",
        "laugh = \"ha\" * 3\n",
        "first_letter = name[0]\n",
        "name_slice = name[1:4]\n",
        "upper_case_sentence = sentence.upper()\n",
        "new_sentence = sentence.replace(\"world\", \"Alice\")\n",
        "\n",
        "\n",
        "print(\"\\nGreeting:\", greeting)\n",
        "print(\"Repeated:\", laugh)\n",
        "print(\"First Letter:\", first_letter)\n",
        "print(\"Sliced Name:\", name_slice)\n",
        "print(\"Uppercase Sentence:\", upper_case_sentence)\n",
        "print(\"Modified Sentence:\", new_sentence)\n"
      ]
    },
    {
      "cell_type": "code",
      "execution_count": null,
      "metadata": {
        "colab": {
          "base_uri": "https://localhost:8080/"
        },
        "id": "BSVsUcdNEcQb",
        "outputId": "5f6c3d42-91e7-4120-d653-9d2200ce2793"
      },
      "outputs": [
        {
          "name": "stdout",
          "output_type": "stream",
          "text": [
            "Name: Alice\n",
            "Age: 30\n",
            "Height: 5.5\n",
            "Complex Number: (2+3j)\n",
            "Favorite Foods: ['pizza', 'sushi', 'pasta']\n",
            "Location Coordinates: (34.05, -118.25)\n",
            "Countdown: [0, 1, 2, 3, 4]\n",
            "Profile Dictionary: {'name': 'Alice', 'age': 30, 'height': 5.5, 'location': (34.05, -118.25)}\n",
            "Unique Numbers: {1, 2, 3, 4}\n",
            "Is Student: False\n",
            "Byte Data: b'Hello'\n"
          ]
        }
      ],
      "source": [
        "name = \"Alice\"\n",
        "age = 30\n",
        "height = 5.5\n",
        "complex_number = 2 + 3j\n",
        "\n",
        "favorite_foods = [\"pizza\", \"sushi\", \"pasta\"]\n",
        "coordinates = (34.05, -118.25)\n",
        "countdown = range(5)\n",
        "\n",
        "profile = {\n",
        "    \"name\": name,\n",
        "    \"age\": age,\n",
        "    \"height\": height,\n",
        "    \"location\": coordinates,\n",
        "}\n",
        "\n",
        "unique_numbers = {1, 2, 3, 3, 4}\n",
        "is_student = False\n",
        "byte_data = b\"Hello\"\n",
        "\n",
        "print(\"Name:\", name)\n",
        "print(\"Age:\", age)\n",
        "print(\"Height:\", height)\n",
        "print(\"Complex Number:\", complex_number)\n",
        "print(\"Favorite Foods:\", favorite_foods)\n",
        "print(\"Location Coordinates:\", coordinates)\n",
        "print(\"Countdown:\", list(countdown))\n",
        "print(\"Profile Dictionary:\", profile)\n",
        "print(\"Unique Numbers:\", unique_numbers)\n",
        "print(\"Is Student:\", is_student)\n",
        "print(\"Byte Data:\", byte_data)\n"
      ]
    },
    {
      "cell_type": "code",
      "execution_count": null,
      "metadata": {
        "id": "o0KY05wSCy-A"
      },
      "outputs": [],
      "source": [
        "\n",
        "dna_sequences = {}\n",
        "\n",
        "\n",
        "def add_dna_sequence(identifier, sequence):\n",
        "    \"\"\"\n",
        "    Adds a DNA sequence to the dictionary.\n",
        "\n",
        "    Args:\n",
        "    identifier (str): Unique name or ID for the sequence.\n",
        "    sequence (str): DNA sequence containing only A, T, C, and G.\n",
        "    \"\"\"\n",
        "    # Validate sequence\n",
        "    for base in sequence:\n",
        "        if base not in \"ATCG\":\n",
        "            print(\"Invalid DNA sequence: Only A, T, C, and G are allowed.\")\n",
        "            return\n",
        "\n",
        "\n",
        "    dna_sequences[identifier] = sequence\n",
        "    print(f\"DNA sequence '{identifier}' added successfully.\")\n",
        "\n",
        "\n",
        "def get_dna_sequence(identifier):\n",
        "    \"\"\"\n",
        "    Retrieves a DNA sequence from the dictionary.\n",
        "\n",
        "    Args:\n",
        "    identifier (str): Unique name or ID for the sequence.\n",
        "\n",
        "    Returns:\n",
        "    str: The DNA sequence if found, else None.\n",
        "    \"\"\"\n",
        "    return dna_sequences.get(identifier, \"Sequence not found.\")\n",
        "\n",
        "def calculate_gc_content(sequence):\n",
        "    \"\"\"\n",
        "    Calculates the GC content (percentage of G and C) in the DNA sequence.\n",
        "\n",
        "    Args:\n",
        "    sequence (str): DNA sequence.\n",
        "\n",
        "    Returns:\n",
        "    float: GC content percentage.\n",
        "    \"\"\"\n",
        "    gc_count = sequence.count('G') + sequence.count('C')\n",
        "    gc_content = (gc_count / len(sequence)) * 100\n",
        "    return round(gc_content, 2)\n",
        "\n",
        "\n",
        "def display_all_sequences():\n",
        "    \"\"\"\n",
        "    Prints all DNA sequences and their identifiers.\n",
        "    \"\"\"\n",
        "    if not dna_sequences:\n",
        "        print(\"No DNA sequences stored.\")\n",
        "    else:\n",
        "        print(\"DNA Sequences:\")\n",
        "        for identifier, sequence in dna_sequences.items():\n",
        "            print(f\"ID: {identifier}, Sequence: {sequence}\")\n",
        "\n",
        "# Example Usage\n",
        "\n",
        "add_dna_sequence(\"seq1\", \"ATGCGTAC\")\n",
        "add_dna_sequence(\"seq2\", \"CGTACGTA\")\n",
        "add_dna_sequence(\"seq3\", \"GGCCGCAA\")\n",
        "\n",
        "\n",
        "print(\"\\nRetrieved Sequence:\", get_dna_sequence(\"seq1\"))\n",
        "\n",
        "\n",
        "sequence = get_dna_sequence(\"seq2\")\n",
        "if sequence != \"Sequence not found.\":\n",
        "    print(f\"GC Content of 'seq2': {calculate_gc_content(sequence)}%\")\n",
        "\n",
        "display_all_sequences()\n"
      ]
    },
    {
      "cell_type": "code",
      "execution_count": null,
      "metadata": {
        "id": "jgFhz0YoK2Rv"
      },
      "outputs": [],
      "source": [
        "dna_sequences = {\n",
        "    \"Sequence_1\": \"ATCGTACGATCG\",\n",
        "    \"Sequence_2\": \"GGCTAGCTAGTA\",\n",
        "    \"Sequence_3\": \"TTAACCGGTTAA\",\n",
        "    \"Sequence_4\": \"CGTAGCTAGCTA\",\n",
        "    \"Sequence_5\": \"ATCGATCGGCTA\"\n",
        "}\n",
        "\n",
        "def display_dna_sequences(dna_dict):\n",
        "    print(\"DNA Sequences Dictionary:\")\n",
        "    for name, sequence in dna_dict.items():\n",
        "        print(f\"{name}: {sequence}\")\n",
        "\n",
        "def add_dna_sequence():\n",
        "    name = input(\"Enter the name for the DNA sequence: \")\n",
        "    sequence = input(\"Enter the DNA sequence: \")\n",
        "    if name in dna_sequences:\n",
        "        print(\"This sequence name already exists. Please use a different name.\")\n",
        "    else:\n",
        "        dna_sequences[name] = sequence\n",
        "        print(f\"Sequence '{name}' added successfully!\")\n",
        "\n",
        "display_dna_sequences(dna_sequences)\n",
        "\n",
        "add_more = input(\"\\nWould you like to add a new DNA sequence? (yes/no): \").strip().lower()\n",
        "if add_more == 'yes':\n",
        "    add_dna_sequence()\n",
        "\n",
        "print(\"\\nUpdated DNA Sequences Dictionary:\")\n",
        "display_dna_sequences(dna_sequences)\n"
      ]
    },
    {
      "cell_type": "code",
      "execution_count": null,
      "metadata": {
        "id": "RdNq8sCKLF_i"
      },
      "outputs": [],
      "source": []
    },
    {
      "cell_type": "code",
      "execution_count": null,
      "metadata": {
        "colab": {
          "base_uri": "https://localhost:8080/"
        },
        "id": "hfJCOrNsGWPA",
        "outputId": "c6dccebb-638a-4a18-ee99-ef79f5e2d581"
      },
      "outputs": [
        {
          "name": "stdout",
          "output_type": "stream",
          "text": [
            "bytearray(b'JafriCode.com')\n",
            "bytearray(b'\\xff\\xfeJ\\x00a\\x00f\\x00r\\x00i\\x00C\\x00o\\x00d\\x00e\\x00.\\x00c\\x00o\\x00m\\x00')\n"
          ]
        }
      ],
      "source": [
        "str_site = \"JafriCode.com\"\n",
        "\n",
        "arr1 = bytearray(str_site, 'utf-8')\n",
        "\n",
        "arr2 = bytearray(str_site, 'utf-16')\n",
        "\n",
        "print(arr1)\n",
        "\n",
        "print(arr2)"
      ]
    },
    {
      "cell_type": "code",
      "execution_count": null,
      "metadata": {
        "colab": {
          "background_save": true,
          "base_uri": "https://localhost:8080/"
        },
        "id": "payV8RXcHLg5",
        "outputId": "0927e8c4-3c81-4deb-c959-f237d4e56695"
      },
      "outputs": [
        {
          "name": "stdout",
          "output_type": "stream",
          "text": [
            "\n",
            "DNA Sequence Dictionary Menu\n",
            "1. Add DNA Sequence\n",
            "2. Retrieve DNA Sequence\n",
            "3. Calculate GC Content\n",
            "4. Display All Sequences\n",
            "5. Exit\n"
          ]
        }
      ],
      "source": [
        "dna_sequences = {}\n",
        "\n",
        "def add_dna_sequence():\n",
        "    identifier = input(\"Enter the sequence ID (e.g., seq1): \")\n",
        "    sequence = input(\"Enter the DNA sequence (only A, T, C, G allowed): \").upper()\n",
        "    for base in sequence:\n",
        "        if base not in \"ATCG\":\n",
        "            print(\"Invalid DNA sequence: Only A, T, C, and G are allowed.\")\n",
        "            return\n",
        "    dna_sequences[identifier] = sequence\n",
        "    print(f\"DNA sequence '{identifier}' added successfully.\")\n",
        "\n",
        "def get_dna_sequence():\n",
        "    identifier = input(\"Enter the sequence ID to retrieve: \")\n",
        "    sequence = dna_sequences.get(identifier, \"Sequence not found.\")\n",
        "    print(f\"Retrieved Sequence for '{identifier}': {sequence}\")\n",
        "\n",
        "def calculate_gc_content():\n",
        "    identifier = input(\"Enter the sequence ID to calculate GC content: \")\n",
        "    sequence = dna_sequences.get(identifier)\n",
        "    if sequence:\n",
        "        gc_count = sequence.count('G') + sequence.count('C')\n",
        "        gc_content = (gc_count / len(sequence)) * 100\n",
        "        print(f\"GC Content of '{identifier}': {round(gc_content, 2)}%\")\n",
        "    else:\n",
        "        print(\"Sequence not found.\")\n",
        "\n",
        "def display_all_sequences():\n",
        "    if not dna_sequences:\n",
        "        print(\"No DNA sequences stored.\")\n",
        "    else:\n",
        "        print(\"DNA Sequences:\")\n",
        "        for identifier, sequence in dna_sequences.items():\n",
        "            print(f\"ID: {identifier}, Sequence: {sequence}\")\n",
        "\n",
        "def menu():\n",
        "    while True:\n",
        "        print(\"\\nDNA Sequence Dictionary Menu\")\n",
        "        print(\"1. Add DNA Sequence\")\n",
        "        print(\"2. Retrieve DNA Sequence\")\n",
        "        print(\"3. Calculate GC Content\")\n",
        "        print(\"4. Display All Sequences\")\n",
        "        print(\"5. Exit\")\n",
        "        choice = input(\"Choose an option (1-5): \")\n",
        "        if choice == '1':\n",
        "            add_dna_sequence()\n",
        "        elif choice == '2':\n",
        "            get_dna_sequence()\n",
        "        elif choice == '3':\n",
        "            calculate_gc_content()\n",
        "        elif choice == '4':\n",
        "            display_all_sequences()\n",
        "        elif choice == '5':\n",
        "            print(\"Exiting the program.\")\n",
        "            break\n",
        "        else:\n",
        "            print(\"Invalid choice. Please try again.\")\n",
        "\n",
        "menu()\n"
      ]
    },
    {
      "cell_type": "code",
      "execution_count": null,
      "metadata": {
        "id": "dafMtOWxJzvz"
      },
      "outputs": [],
      "source": [
        "\n",
        "x = 5\n",
        "y = 2.5\n",
        "\n",
        "\n",
        "result = x + y\n",
        "print(result)\n",
        "print(type(result))\n"
      ]
    },
    {
      "cell_type": "code",
      "execution_count": null,
      "metadata": {
        "id": "iNeqjYriLJLU"
      },
      "outputs": [],
      "source": [
        "\n",
        "x = 5.75\n",
        "y = int(x)\n",
        "\n",
        "print(y)\n",
        "print(type(y))\n",
        "\n",
        "z = str(x)\n",
        "print(z)\n",
        "print(type(z))\n"
      ]
    }
  ],
  "metadata": {
    "colab": {
      "provenance": [],
      "include_colab_link": true
    },
    "kernelspec": {
      "display_name": "Python 3",
      "name": "python3"
    },
    "language_info": {
      "name": "python"
    }
  },
  "nbformat": 4,
  "nbformat_minor": 0
}