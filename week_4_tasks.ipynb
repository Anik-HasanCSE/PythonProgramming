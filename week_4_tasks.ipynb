{
  "nbformat": 4,
  "nbformat_minor": 0,
  "metadata": {
    "colab": {
      "provenance": [],
      "include_colab_link": true
    },
    "kernelspec": {
      "name": "python3",
      "display_name": "Python 3"
    },
    "language_info": {
      "name": "python"
    }
  },
  "cells": [
    {
      "cell_type": "markdown",
      "metadata": {
        "id": "view-in-github",
        "colab_type": "text"
      },
      "source": [
        "<a href=\"https://colab.research.google.com/github/Anik-HasanCSE/PythonProgramming/blob/main/week_4_tasks.ipynb\" target=\"_parent\"><img src=\"https://colab.research.google.com/assets/colab-badge.svg\" alt=\"Open In Colab\"/></a>"
      ]
    },
    {
      "cell_type": "code",
      "execution_count": null,
      "metadata": {
        "colab": {
          "base_uri": "https://localhost:8080/"
        },
        "id": "KqpQCElR23UL",
        "outputId": "ae696c1e-2a19-417e-c1fc-c757f13da311"
      },
      "outputs": [
        {
          "output_type": "stream",
          "name": "stdout",
          "text": [
            "Enter your name: asiq\n",
            "Invalid name! It should start with 'a' and be between 5 to 10 characters.\n"
          ]
        }
      ],
      "source": [
        "#Write a Python Program to get Name from User and Display, the Name Should Contain 5 Character or Less Than 10 and Name Should Start From ‘a’ Character.\n",
        "name = input(\"Enter your name: \")\n",
        "\n",
        "\n",
        "if name.startswith('a') and 5 <= len(name) <= 10:\n",
        "    print(\"Your name is:\", name)\n",
        "else:\n",
        "    print(\"Invalid name! It should start with 'a' and be between 5 to 10 characters.\")\n"
      ]
    },
    {
      "cell_type": "code",
      "source": [
        "\n",
        "\n",
        "# Write a Python Program To get Age and Marks from User. The SystemShould Select that User which have Greater Than or Equal to 18 Year Age and Marks Should be Greater Than 90 and Less Than 100.\n",
        "\n",
        "age = int(input(\"Enter your age: \"))\n",
        "marks = int(input(\"Enter your marks: \"))\n",
        "\n",
        "\n",
        "if age >= 18 and 90 < marks < 100:\n",
        "    print(\"User is selected.\")\n",
        "else:\n",
        "    print(\"User does not meet the selection criteria.\")\n"
      ],
      "metadata": {
        "colab": {
          "base_uri": "https://localhost:8080/"
        },
        "id": "LOhKFZAy4TpG",
        "outputId": "3d9cf9cb-0b3d-4d96-9250-71600fa71bef"
      },
      "execution_count": null,
      "outputs": [
        {
          "output_type": "stream",
          "name": "stdout",
          "text": [
            "Enter your age: 18\n",
            "Enter your marks: 99\n",
            "User is selected.\n"
          ]
        }
      ]
    },
    {
      "cell_type": "code",
      "source": [
        "\n",
        "\n",
        "# Write a Python Program to get a Number from User to Display Its Next and Previous Numbers. If User Enter ‘4’, System Should Display 5 as Next Number and 3 as Pervious Number.\n",
        "number = int(input(\"Enter a number: \"))\n",
        "\n",
        "next_number = number + 1\n",
        "previous_number = number - 1\n",
        "\n",
        "print(\"Next number is:\", next_number)\n",
        "print(\"Previous number is:\", previous_number)\n"
      ],
      "metadata": {
        "colab": {
          "base_uri": "https://localhost:8080/"
        },
        "id": "-dgGr0b-6DNj",
        "outputId": "65a3ffb4-76af-46cc-d0e6-38381567cca2"
      },
      "execution_count": null,
      "outputs": [
        {
          "output_type": "stream",
          "name": "stdout",
          "text": [
            "Enter a number: 7\n",
            "Next number is: 8\n",
            "Previous number is: 6\n"
          ]
        }
      ]
    }
  ]
}