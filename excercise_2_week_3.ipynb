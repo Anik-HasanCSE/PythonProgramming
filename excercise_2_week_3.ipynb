{
  "nbformat": 4,
  "nbformat_minor": 0,
  "metadata": {
    "colab": {
      "provenance": [],
      "include_colab_link": true
    },
    "kernelspec": {
      "name": "python3",
      "display_name": "Python 3"
    },
    "language_info": {
      "name": "python"
    }
  },
  "cells": [
    {
      "cell_type": "markdown",
      "metadata": {
        "id": "view-in-github",
        "colab_type": "text"
      },
      "source": [
        "<a href=\"https://colab.research.google.com/github/Anik-HasanCSE/PythonProgramming/blob/main/excercise_2_week_3.ipynb\" target=\"_parent\"><img src=\"https://colab.research.google.com/assets/colab-badge.svg\" alt=\"Open In Colab\"/></a>"
      ]
    },
    {
      "cell_type": "code",
      "execution_count": null,
      "metadata": {
        "colab": {
          "base_uri": "https://localhost:8080/",
          "height": 106
        },
        "id": "XrIr-a_-ydOd",
        "outputId": "406324ec-5933-4683-82ae-75efe82b31f0"
      },
      "outputs": [
        {
          "output_type": "error",
          "ename": "SyntaxError",
          "evalue": "invalid syntax (<ipython-input-4-5231afbb621a>, line 7)",
          "traceback": [
            "\u001b[0;36m  File \u001b[0;32m\"<ipython-input-4-5231afbb621a>\"\u001b[0;36m, line \u001b[0;32m7\u001b[0m\n\u001b[0;31m    return \"The given sides do not form a valid triangle.\"1\u001b[0m\n\u001b[0m                                                          ^\u001b[0m\n\u001b[0;31mSyntaxError\u001b[0m\u001b[0;31m:\u001b[0m invalid syntax\n"
          ]
        }
      ],
      "source": [
        "def is_valid_triangle(a, b, c):\n",
        "\n",
        "    return a + b > c and a + c > b and b + c > a\n",
        "\n",
        "def classify_triangle(a, b, c):\n",
        "    if not is_valid_triangle(a, b, c):\n",
        "        return \"The given sides do not form a valid triangle.\"1\n",
        "    elif a == b == c:\n",
        "        return \"The triangle is Equilateral (all sides equal).\"\n",
        "    elif a == b or b == c or a == c:\n",
        "        return \"The triangle is Isosceles (two sides equal).\"\n",
        "    else:\n",
        "        return \"The triangle is Scalene (all sides different).\"\n",
        "\n",
        "def main():\n",
        "\n",
        "    a = float(input(\"Enter the length of the first side: \"))\n",
        "    b = float(input(\"Enter the length of the second side: \"))\n",
        "    c = float(input(\"Enter the length of the third side: \"))\n",
        "\n",
        "    # display the type of triangle\n",
        "    result = classify_triangle(a, b, c)\n",
        "    print(result)\n",
        "\n",
        "if __name__ == \"__main__\":\n",
        "    main()\n",
        "\n"
      ]
    }
  ]
}