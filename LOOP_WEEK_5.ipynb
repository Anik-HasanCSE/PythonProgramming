{
  "cells": [
    {
      "cell_type": "markdown",
      "metadata": {
        "id": "view-in-github",
        "colab_type": "text"
      },
      "source": [
        "<a href=\"https://colab.research.google.com/github/Anik-HasanCSE/PythonProgramming/blob/main/LOOP_WEEK_5.ipynb\" target=\"_parent\"><img src=\"https://colab.research.google.com/assets/colab-badge.svg\" alt=\"Open In Colab\"/></a>"
      ]
    },
    {
      "cell_type": "code",
      "execution_count": null,
      "metadata": {
        "id": "YlTfsFcUEeeq"
      },
      "outputs": [],
      "source": [
        "#pass statememnt\n",
        "def my_function():\n",
        "    pass\n",
        "\n",
        "\n",
        "for i in range(5):\n",
        "    pass\n"
      ]
    },
    {
      "cell_type": "code",
      "execution_count": null,
      "metadata": {
        "id": "-Y2aidlfFLft"
      },
      "outputs": [],
      "source": [
        "#exception\n",
        "\n",
        "try:\n",
        "    x = int(input(\" Please enter a number : \"))\n",
        "    result = 10 / x\n",
        "except ValueError:\n",
        "    print(\" Invalid input ; please enter a number .\")\n",
        "except ZeroDivisionError:\n",
        "    print(\"You cannot divide by zero .\")\n",
        "finally:\n",
        "    print(\" This executes no matter what .\")\n"
      ]
    },
    {
      "cell_type": "code",
      "execution_count": null,
      "metadata": {
        "colab": {
          "base_uri": "https://localhost:8080/"
        },
        "id": "DxDMb5g-IHuA",
        "outputId": "f9404d0e-1338-4eca-b9ca-04befbc1b8a7"
      },
      "outputs": [
        {
          "name": "stdout",
          "output_type": "stream",
          "text": [
            "It’s a nice day.\n"
          ]
        }
      ],
      "source": [
        "temperature = 30\n",
        "\n",
        "if temperature > 30:\n",
        "    print(\"It’s a hot day.\")\n",
        "elif temperature > 20:\n",
        "    print(\"It’s a nice day.\")\n",
        "else:\n",
        "    print(\"It’s a bit chilly.\")\n"
      ]
    },
    {
      "cell_type": "code",
      "execution_count": null,
      "metadata": {
        "colab": {
          "base_uri": "https://localhost:8080/"
        },
        "id": "33ttY3tuIu6W",
        "outputId": "5889dbc7-d4f2-4334-ca78-9d334d1e7f36"
      },
      "outputs": [
        {
          "name": "stdout",
          "output_type": "stream",
          "text": [
            "Please enter the temperature: 70\n",
            "It’s a hot day.\n"
          ]
        }
      ],
      "source": [
        "temperature = int(input(\"Please enter the temperature: \"))\n",
        "\n",
        "if temperature > 30:\n",
        "    print(\"It’s a hot day.\")\n",
        "elif temperature > 20:\n",
        "    print(\"It’s a nice day.\")\n",
        "else:\n",
        "    print(\"It’s a bit chilly.\")\n"
      ]
    },
    {
      "cell_type": "code",
      "execution_count": null,
      "metadata": {
        "colab": {
          "base_uri": "https://localhost:8080/"
        },
        "id": "67sD_6p-IzWS",
        "outputId": "6b1d5b7d-28c0-429e-c727-72cde36adff6"
      },
      "outputs": [
        {
          "name": "stdout",
          "output_type": "stream",
          "text": [
            "1\n",
            "3\n"
          ]
        }
      ],
      "source": [
        "#Continue Statement\n",
        "for num in range(5):\n",
        "    if num % 2 == 0:\n",
        "        continue\n",
        "    print(num)\n"
      ]
    },
    {
      "cell_type": "code",
      "execution_count": null,
      "metadata": {
        "colab": {
          "base_uri": "https://localhost:8080/"
        },
        "id": "GER2JrOpJh6U",
        "outputId": "a359efcd-9eb9-4264-b69e-c7cc64967ecf"
      },
      "outputs": [
        {
          "name": "stdout",
          "output_type": "stream",
          "text": [
            "0\n",
            "1\n",
            "2\n",
            "3\n",
            "4\n"
          ]
        }
      ],
      "source": [
        "#Pass Statement\n",
        "for num in range(5):\n",
        "    if num == 3:\n",
        "        pass  # Do nothing for 3\n",
        "    print(num)\n"
      ]
    },
    {
      "cell_type": "code",
      "execution_count": null,
      "metadata": {
        "colab": {
          "base_uri": "https://localhost:8080/"
        },
        "id": "_Tt1MH1FKFRS",
        "outputId": "923a8151-2382-4995-cd5c-a4ee015e43c5"
      },
      "outputs": [
        {
          "name": "stdout",
          "output_type": "stream",
          "text": [
            "Enter a number: 6\n",
            "6\n",
            "12\n",
            "18\n",
            "24\n",
            "30\n",
            "36\n",
            "42\n",
            "48\n",
            "54\n",
            "60\n",
            "66\n",
            "72\n",
            "78\n",
            "84\n",
            "90\n",
            "96\n"
          ]
        }
      ],
      "source": [
        "\n",
        "#Multiples of a Number: Write a program that takes a number from the user and prints all its multiples up to 100.\n",
        "num = int(input(\"Enter a number: \"))\n",
        "\n",
        "for i in range(num, 101, num):\n",
        "    print(i)\n"
      ]
    },
    {
      "cell_type": "code",
      "execution_count": null,
      "metadata": {
        "colab": {
          "base_uri": "https://localhost:8080/"
        },
        "id": "ShaDNtbqLfMk",
        "outputId": "1be43a12-8952-4aef-c6e9-e8d857781ea7"
      },
      "outputs": [
        {
          "name": "stdout",
          "output_type": "stream",
          "text": [
            "Enter a number to start the countdown: 7\n",
            "7\n",
            "6\n",
            "5\n",
            "4\n",
            "3\n",
            "2\n",
            "1\n",
            "0\n"
          ]
        }
      ],
      "source": [
        "# Get user input for the starting number of the countdown\n",
        "start_number = int(input(\"Enter a number to start the countdown: \"))\n",
        "\n",
        "for i in range(start_number, -1, -1):\n",
        "    print(i)\n"
      ]
    },
    {
      "cell_type": "code",
      "execution_count": null,
      "metadata": {
        "colab": {
          "base_uri": "https://localhost:8080/"
        },
        "id": "_NYpg16uLp9C",
        "outputId": "94317f15-d460-423a-dc0c-27e3987fe4de"
      },
      "outputs": [
        {
          "name": "stdout",
          "output_type": "stream",
          "text": [
            "Enter a non-negative integer: 7\n",
            "The factorial of 7 is: 5040\n"
          ]
        }
      ],
      "source": [
        "#Develop a program that computes the factorial of a given non-negative integer using a loop.\n",
        "\n",
        "number = int(input(\"Enter a non-negative integer: \"))\n",
        "factorial = 1\n",
        "\n",
        "if number < 0:\n",
        "    print(\"Factorial is not defined for negative numbers.\")\n",
        "else:\n",
        "    for i in range(1, number + 1):\n",
        "        factorial *= i\n",
        "\n",
        "    print(f\"The factorial of {number} is: {factorial}\")\n"
      ]
    },
    {
      "cell_type": "code",
      "execution_count": null,
      "metadata": {
        "colab": {
          "base_uri": "https://localhost:8080/"
        },
        "id": "iRvNpFGgMeGN",
        "outputId": "5fe9574a-02a4-4fce-f1d7-9cced2321f07"
      },
      "outputs": [
        {
          "name": "stdout",
          "output_type": "stream",
          "text": [
            "Enter a number: 8\n",
            "The sum of all natural numbers up to 8 is: 36\n"
          ]
        }
      ],
      "source": [
        "#Sum of Natural Numbers: Create a program that calculates the sum of all natural numbers up to a numberprovided by the user.\n",
        "\n",
        "number = int(input(\"Enter a number: \"))\n",
        "sum_of_numbers = 0\n",
        "\n",
        "if number < 1:\n",
        "    print(\"Please enter a positive integer.\")\n",
        "else:\n",
        "    for i in range(1, number + 1):\n",
        "        sum_of_numbers += i\n",
        "\n",
        "    print(f\"The sum of all natural numbers up to {number} is: {sum_of_numbers}\")\n"
      ]
    },
    {
      "cell_type": "code",
      "execution_count": null,
      "metadata": {
        "id": "unGDp8VVNV_t"
      },
      "outputs": [],
      "source": [
        "#Write a program that checks whether a number entered by the user is prime."
      ]
    },
    {
      "cell_type": "code",
      "execution_count": null,
      "metadata": {
        "colab": {
          "base_uri": "https://localhost:8080/"
        },
        "id": "W6-9eKSjNcaD",
        "outputId": "ae9ea9fd-db04-49b8-b941-b935cb0a6e44"
      },
      "outputs": [
        {
          "name": "stdout",
          "output_type": "stream",
          "text": [
            "Enter a number: 12\n",
            "12 is not a prime number.\n"
          ]
        }
      ],
      "source": [
        "number = int(input(\"Enter a number: \"))\n",
        "\n",
        "if number <= 1:\n",
        "    print(f\"{number} is not a prime number.\")\n",
        "else:\n",
        "    is_prime = True\n",
        "    for i in range(2, number):\n",
        "        if number % i == 0:\n",
        "            is_prime = False\n",
        "            break\n",
        "    if is_prime:\n",
        "        print(f\"{number} is a prime number.\")\n",
        "    else:\n",
        "        print(f\"{number} is not a prime number.\")\n"
      ]
    },
    {
      "cell_type": "code",
      "execution_count": null,
      "metadata": {
        "colab": {
          "base_uri": "https://localhost:8080/"
        },
        "id": "vAm6W-HqNuqW",
        "outputId": "3f3f0e56-4507-4419-c6b1-925545db89d4"
      },
      "outputs": [
        {
          "name": "stdout",
          "output_type": "stream",
          "text": [
            "Enter the number of terms in the Fibonacci sequence: 7\n",
            "Fibonacci sequence up to 7 terms:\n",
            "0 1 1 2 3 5 8 "
          ]
        }
      ],
      "source": [
        "#Create a program that prints the Fibonacci sequence up to n terms, where n is Provided by the user.\n",
        "\n",
        "n = int(input(\"Enter the number of terms in the Fibonacci sequence: \"))\n",
        "\n",
        "a, b = 0, 1  # Initializing the first two terms of the Fibonacci sequence\n",
        "\n",
        "if n <= 0:\n",
        "    print(\"Please enter a positive integer.\")\n",
        "elif n == 1:\n",
        "    print(f\"Fibonacci sequence up to {n} term: {a}\")\n",
        "else:\n",
        "    print(f\"Fibonacci sequence up to {n} terms:\")\n",
        "    print(a, b, end=\" \")  # Print the first two terms\n",
        "    for i in range(2, n):\n",
        "        c = a + b\n",
        "        print(c, end=\" \")\n",
        "        a, b = b, c  # Update a and b to the next two terms\n"
      ]
    },
    {
      "cell_type": "code",
      "execution_count": null,
      "metadata": {
        "colab": {
          "base_uri": "https://localhost:8080/",
          "height": 529
        },
        "id": "myNYwGsKbqS5",
        "outputId": "4748dceb-bb63-4a82-a349-4cb4cdcfab5b"
      },
      "outputs": [
        {
          "name": "stdout",
          "output_type": "stream",
          "text": [
            "Welcome to the Number Guessing Game!\n",
            "I have chosen a number between 1 and 100. Try to guess it!\n",
            "Enter your guess: 30\n",
            "Too low! Try a higher number.\n",
            "Enter your guess: 70\n",
            "Too low! Try a higher number.\n",
            "Enter your guess: 30\n",
            "Too low! Try a higher number.\n",
            "Enter your guess: 70\n",
            "Too low! Try a higher number.\n"
          ]
        },
        {
          "ename": "KeyboardInterrupt",
          "evalue": "Interrupted by user",
          "output_type": "error",
          "traceback": [
            "\u001b[0;31m---------------------------------------------------------------------------\u001b[0m",
            "\u001b[0;31mKeyboardInterrupt\u001b[0m                         Traceback (most recent call last)",
            "\u001b[0;32m<ipython-input-16-d5bf18fc15b7>\u001b[0m in \u001b[0;36m<cell line: 8>\u001b[0;34m()\u001b[0m\n\u001b[1;32m      7\u001b[0m \u001b[0;34m\u001b[0m\u001b[0m\n\u001b[1;32m      8\u001b[0m \u001b[0;32mwhile\u001b[0m \u001b[0;32mTrue\u001b[0m\u001b[0;34m:\u001b[0m\u001b[0;34m\u001b[0m\u001b[0;34m\u001b[0m\u001b[0m\n\u001b[0;32m----> 9\u001b[0;31m     \u001b[0mguess\u001b[0m \u001b[0;34m=\u001b[0m \u001b[0mint\u001b[0m\u001b[0;34m(\u001b[0m\u001b[0minput\u001b[0m\u001b[0;34m(\u001b[0m\u001b[0;34m\"Enter your guess: \"\u001b[0m\u001b[0;34m)\u001b[0m\u001b[0;34m)\u001b[0m\u001b[0;34m\u001b[0m\u001b[0;34m\u001b[0m\u001b[0m\n\u001b[0m\u001b[1;32m     10\u001b[0m \u001b[0;34m\u001b[0m\u001b[0m\n\u001b[1;32m     11\u001b[0m     \u001b[0;32mif\u001b[0m \u001b[0mguess\u001b[0m \u001b[0;34m==\u001b[0m \u001b[0msecret_number\u001b[0m\u001b[0;34m:\u001b[0m\u001b[0;34m\u001b[0m\u001b[0;34m\u001b[0m\u001b[0m\n",
            "\u001b[0;32m/usr/local/lib/python3.10/dist-packages/ipykernel/kernelbase.py\u001b[0m in \u001b[0;36mraw_input\u001b[0;34m(self, prompt)\u001b[0m\n\u001b[1;32m    849\u001b[0m                 \u001b[0;34m\"raw_input was called, but this frontend does not support input requests.\"\u001b[0m\u001b[0;34m\u001b[0m\u001b[0;34m\u001b[0m\u001b[0m\n\u001b[1;32m    850\u001b[0m             )\n\u001b[0;32m--> 851\u001b[0;31m         return self._input_request(str(prompt),\n\u001b[0m\u001b[1;32m    852\u001b[0m             \u001b[0mself\u001b[0m\u001b[0;34m.\u001b[0m\u001b[0m_parent_ident\u001b[0m\u001b[0;34m,\u001b[0m\u001b[0;34m\u001b[0m\u001b[0;34m\u001b[0m\u001b[0m\n\u001b[1;32m    853\u001b[0m             \u001b[0mself\u001b[0m\u001b[0;34m.\u001b[0m\u001b[0m_parent_header\u001b[0m\u001b[0;34m,\u001b[0m\u001b[0;34m\u001b[0m\u001b[0;34m\u001b[0m\u001b[0m\n",
            "\u001b[0;32m/usr/local/lib/python3.10/dist-packages/ipykernel/kernelbase.py\u001b[0m in \u001b[0;36m_input_request\u001b[0;34m(self, prompt, ident, parent, password)\u001b[0m\n\u001b[1;32m    893\u001b[0m             \u001b[0;32mexcept\u001b[0m \u001b[0mKeyboardInterrupt\u001b[0m\u001b[0;34m:\u001b[0m\u001b[0;34m\u001b[0m\u001b[0;34m\u001b[0m\u001b[0m\n\u001b[1;32m    894\u001b[0m                 \u001b[0;31m# re-raise KeyboardInterrupt, to truncate traceback\u001b[0m\u001b[0;34m\u001b[0m\u001b[0;34m\u001b[0m\u001b[0m\n\u001b[0;32m--> 895\u001b[0;31m                 \u001b[0;32mraise\u001b[0m \u001b[0mKeyboardInterrupt\u001b[0m\u001b[0;34m(\u001b[0m\u001b[0;34m\"Interrupted by user\"\u001b[0m\u001b[0;34m)\u001b[0m \u001b[0;32mfrom\u001b[0m \u001b[0;32mNone\u001b[0m\u001b[0;34m\u001b[0m\u001b[0;34m\u001b[0m\u001b[0m\n\u001b[0m\u001b[1;32m    896\u001b[0m             \u001b[0;32mexcept\u001b[0m \u001b[0mException\u001b[0m \u001b[0;32mas\u001b[0m \u001b[0me\u001b[0m\u001b[0;34m:\u001b[0m\u001b[0;34m\u001b[0m\u001b[0;34m\u001b[0m\u001b[0m\n\u001b[1;32m    897\u001b[0m                 \u001b[0mself\u001b[0m\u001b[0;34m.\u001b[0m\u001b[0mlog\u001b[0m\u001b[0;34m.\u001b[0m\u001b[0mwarning\u001b[0m\u001b[0;34m(\u001b[0m\u001b[0;34m\"Invalid Message:\"\u001b[0m\u001b[0;34m,\u001b[0m \u001b[0mexc_info\u001b[0m\u001b[0;34m=\u001b[0m\u001b[0;32mTrue\u001b[0m\u001b[0;34m)\u001b[0m\u001b[0;34m\u001b[0m\u001b[0;34m\u001b[0m\u001b[0m\n",
            "\u001b[0;31mKeyboardInterrupt\u001b[0m: Interrupted by user"
          ]
        }
      ],
      "source": [
        "import random\n",
        "\n",
        "secret_number = random.randint(1, 100)\n",
        "\n",
        "print(\"Welcome to the Number Guessing Game!\")\n",
        "print(\"I have chosen a number between 1 and 100. Try to guess it!\")\n",
        "\n",
        "while True:\n",
        "    guess = int(input(\"Enter your guess: \"))\n",
        "\n",
        "    if guess == secret_number:\n",
        "        print(\"Congratulations! You guessed the number correctly!\")\n",
        "        break\n",
        "    elif guess < secret_number:\n",
        "        print(\"Too low! Try a higher number.\")\n",
        "    else:\n",
        "        print(\"Too high! Try a lower number.\")\n"
      ]
    },
    {
      "cell_type": "code",
      "execution_count": null,
      "metadata": {
        "colab": {
          "background_save": true,
          "base_uri": "https://localhost:8080/"
        },
        "id": "1JJW-rylc2yR",
        "outputId": "75e12de3-859a-47c6-82a7-afcf4a58d530"
      },
      "outputs": [
        {
          "name": "stdout",
          "output_type": "stream",
          "text": [
            "Welcome to the Number Guessing Game!\n",
            "I have chosen a number between 1 and 100. Try to guess it!\n",
            "Too low! Try a higher number.\n",
            "Too low! Try a higher number.\n",
            "Too low! Try a higher number.\n",
            "Too low! Try a higher number.\n",
            "Too low! Try a higher number.\n",
            "Too low! Try a higher number.\n",
            "Too high! Try a lower number.\n",
            "Too high! Try a lower number.\n",
            "Too low! Try a higher number.\n",
            "Too low! Try a higher number.\n"
          ]
        }
      ],
      "source": [
        "import random\n",
        "\n",
        "secret_number = random.randint(1, 100)\n",
        "\n",
        "print(\"Welcome to the Number Guessing Game!\")\n",
        "print(\"I have chosen a number between 1 and 100. Try to guess it!\")\n",
        "\n",
        "while True:\n",
        "    guess = int(input(\"Enter your guess: \"))\n",
        "\n",
        "    if guess == secret_number:\n",
        "        print(\"Congratulations! You guessed the number correctly!\")\n",
        "        break\n",
        "    elif guess < secret_number:\n",
        "        print(\"Too low! Try a higher number.\")\n",
        "    else:\n",
        "        print(\"Too high! Try a lower number.\")\n",
        "9"
      ]
    },
    {
      "cell_type": "code",
      "execution_count": null,
      "metadata": {
        "id": "tbwgmtKXfdXA"
      },
      "outputs": [],
      "source": []
    },
    {
      "cell_type": "code",
      "execution_count": null,
      "metadata": {
        "id": "ohZmNiHvgCIV"
      },
      "outputs": [],
      "source": [
        "string = input(\"Enter a string: \")\n",
        "\n",
        "if string == string[::-1]:\n",
        "    print(f\"{string} is a palindrome.\")\n",
        "else:\n",
        "    print(f\"{string} is not a palindrome.\")\n"
      ]
    },
    {
      "cell_type": "code",
      "execution_count": null,
      "metadata": {
        "id": "EAekyJZwhd4c"
      },
      "outputs": [],
      "source": []
    }
  ],
  "metadata": {
    "colab": {
      "provenance": [],
      "include_colab_link": true
    },
    "kernelspec": {
      "display_name": "Python 3",
      "name": "python3"
    },
    "language_info": {
      "name": "python"
    }
  },
  "nbformat": 4,
  "nbformat_minor": 0
}